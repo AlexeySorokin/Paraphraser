{
 "cells": [
  {
   "cell_type": "code",
   "execution_count": 44,
   "metadata": {},
   "outputs": [],
   "source": [
    "from ufal.udpipe import Model, Pipeline\n",
    "from collections import defaultdict\n",
    "from bs4 import BeautifulSoup"
   ]
  },
  {
   "cell_type": "code",
   "execution_count": 84,
   "metadata": {},
   "outputs": [],
   "source": [
    "def make_tag(s):\n",
    "    if s == \"_\":\n",
    "        return dict()\n",
    "    return dict(elem.split(\"=\", maxsplit=1) for elem in s.split(\"|\"))\n",
    "\n",
    "def is_verb(pos, tag):\n",
    "    return (pos in [\"VERB\", \"AUX\"]) and (\"Case\" not in tag)"
   ]
  },
  {
   "cell_type": "code",
   "execution_count": 96,
   "metadata": {},
   "outputs": [
    {
     "ename": "SyntaxError",
     "evalue": "invalid syntax (<ipython-input-96-fecd8b263f63>, line 40)",
     "output_type": "error",
     "traceback": [
      "\u001b[0;36m  File \u001b[0;32m\"<ipython-input-96-fecd8b263f63>\"\u001b[0;36m, line \u001b[0;32m40\u001b[0m\n\u001b[0;31m    return {\"verb\": verb_indexes, \"subj\": subj_indexes, \"obj\"}\u001b[0m\n\u001b[0m                                                             ^\u001b[0m\n\u001b[0;31mSyntaxError\u001b[0m\u001b[0;31m:\u001b[0m invalid syntax\n"
     ]
    }
   ],
   "source": [
    "class SyntaxTreeGraph:\n",
    "    \n",
    "    def __init__(self, data):\n",
    "        self._make_edges(data)\n",
    "    \n",
    "    def __len__(self):\n",
    "        return self.length\n",
    "    \n",
    "    def _make_edges(self, data):\n",
    "        self.nodes_number = len(data)\n",
    "        self.edges = [[] for _ in range(self.nodes_number+1)]\n",
    "        self.deps = [[] for _ in range(self.nodes_number+1)]\n",
    "        self.tags = [(elem[3], make_tag(elem[5])) for elem in data]\n",
    "        for child, elem in enumerate(data, 1):\n",
    "            root, dep = int(elem[6]), elem[7]\n",
    "            self.edges[root].append(child)\n",
    "            self.deps[root].append(dep)\n",
    "        return\n",
    "    \n",
    "    def _order(self):\n",
    "        color = [0] * (self.nodes_number + 1)\n",
    "        stack = [0]\n",
    "        order = []\n",
    "        while len(stack) > 0:\n",
    "            v = stack[-1]\n",
    "            if color[v] == 0:\n",
    "                color[v] = 1\n",
    "                stack.extend(self.edges[v])\n",
    "                continue\n",
    "            elif color[v] == 1:\n",
    "                color[v] = 2\n",
    "                order.append(v)\n",
    "            stack.pop()\n",
    "        return order[::-1]\n",
    "    \n",
    "    def get_indexes(self):\n",
    "#         print(self.edges)\n",
    "        verb_indexes = self._get_verb_indexes()\n",
    "        subj_indexes, obj_indexes = self._get_noun_indexes(verb_indexes)\n",
    "        return {\"verb\": verb_indexes, \"subj\": subj_indexes, \"obj\": obj_indexes}\n",
    "    \n",
    "    def _get_verb_indexes(self):\n",
    "        parents_for_verbs, answer = [0], []\n",
    "        while len(parents_for_verbs) > 0:\n",
    "#             for parent_index in parents_for_verbs:\n",
    "            parent_index = parents_for_verbs.pop()\n",
    "            curr_dep_data = self.edges[parent_index], self.deps[parent_index]\n",
    "            for verb_index, dep in zip(*curr_dep_data):\n",
    "                pos, tag = self.tags[verb_index-1]\n",
    "                if dep in [\"root\", \"xcomp\"] and is_verb(*self.tags[verb_index-1]):\n",
    "                    answer.append(verb_index)\n",
    "                    parents_for_verbs.append(verb_index)\n",
    "        return answer\n",
    "    \n",
    "    def _get_noun_indexes(self, verb_indexes):\n",
    "        subj_indexes, obj_indexes = [], []\n",
    "        for verb_index in verb_indexes:\n",
    "            is_passive = (self.tags[verb_index-1][-1].get(\"Voice\") == \"Pass\")\n",
    "            curr_dep_data = self.edges[verb_index], self.deps[verb_index]\n",
    "            for dep_index, dep in zip(*curr_dep_data):\n",
    "                if dep == \"nsubj\":\n",
    "                    dest = obj_indexes if is_passive else subj_indexes\n",
    "                elif dep in [\"nsubj:pass\", \"obj\"]:\n",
    "                    dest = obj_indexes\n",
    "                else:\n",
    "                    continue\n",
    "                dest.append(dep_index)\n",
    "        return subj_indexes, obj_indexes"
   ]
  },
  {
   "cell_type": "code",
   "execution_count": 40,
   "metadata": {},
   "outputs": [
    {
     "name": "stdout",
     "output_type": "stream",
     "text": [
      "[0, 4, 2, 1, 3, 6, 5]\n"
     ]
    }
   ],
   "source": [
    "edges = [(2, \"\"), (4, \"\"), (2, \"\"), (0, \"\"), (6, \"\"), (4, \"\")]\n",
    "graph = SyntaxTreeGraph(edges)\n",
    "print(graph._order())    "
   ]
  },
  {
   "cell_type": "code",
   "execution_count": 7,
   "metadata": {},
   "outputs": [],
   "source": [
    "model = Model.load(\"russian-syntagrus-ud-2.0-170801.udpipe\")"
   ]
  },
  {
   "cell_type": "code",
   "execution_count": 9,
   "metadata": {},
   "outputs": [],
   "source": [
    "pipeline = Pipeline(model, \"tokenize\", Pipeline.DEFAULT, Pipeline.DEFAULT, \"conllu\")"
   ]
  },
  {
   "cell_type": "code",
   "execution_count": 24,
   "metadata": {},
   "outputs": [],
   "source": [
    "def prettify_UD_output(s):\n",
    "    lines = s.split(\"\\n\")\n",
    "    state = 0\n",
    "    answer = []\n",
    "    for line in lines:\n",
    "        if state == 0:\n",
    "            if line.startswith(\"# sent_id\"):\n",
    "                iter(lines).__next__()\n",
    "                state = 2\n",
    "                curr_sent = []\n",
    "                continue\n",
    "        elif state == 2:\n",
    "            state = 1\n",
    "        elif state == 1:\n",
    "            if line == \"\":\n",
    "                answer.append(curr_sent)\n",
    "                curr_sent, state = [], 0\n",
    "                continue\n",
    "            curr_sent.append(line.split(\"\\t\"))\n",
    "    if curr_sent != []:\n",
    "        answer.append(curr_sent)\n",
    "    return answer"
   ]
  },
  {
   "cell_type": "code",
   "execution_count": 41,
   "metadata": {},
   "outputs": [],
   "source": [
    "def read_paraphrases(infile):\n",
    "    with open(infile, \"r\", encoding=\"utf-8\") as fin:\n",
    "        soup = BeautifulSoup(fin.read(), \"lxml\")\n",
    "    paraphrases = soup.find_all(\"paraphrase\")\n",
    "    pairs, targets = [], []\n",
    "    for elem in paraphrases:\n",
    "        first, second, target = elem.find_all(attrs={\"name\": [\"text_1\", \"text_2\", \"class\"]})\n",
    "        pairs.append([first.text, second.text])\n",
    "        targets.append(int(target.text))\n",
    "    return pairs, targets"
   ]
  },
  {
   "cell_type": "code",
   "execution_count": null,
   "metadata": {},
   "outputs": [],
   "source": [
    "pairs, targets = read_paraphrases(\"paraphraser/paraphrases_train.xml\")\n",
    "phrases = [phrase for pair in pairs for phrase in pair]"
   ]
  },
  {
   "cell_type": "code",
   "execution_count": 97,
   "metadata": {},
   "outputs": [
    {
     "name": "stdout",
     "output_type": "stream",
     "text": [
      "0 verb 2 разрешат\n",
      "0 verb 3 стрелять\n",
      "1 subj 1 Полиции\n",
      "1 verb 2 могут\n",
      "1 verb 3 разрешить\n",
      "1 verb 4 стрелять\n",
      "2 subj 1 Право\n",
      "2 verb 7 решили\n",
      "2 verb 8 ограничить\n",
      "3 subj 1 Правила\n",
      "3 verb 7 уточнят\n",
      "4 obj 5 положение\n",
      "4 subj 1 Президент\n",
      "4 verb 3 ввел\n",
      "5 obj 8 положение\n",
      "5 subj 1 Власти\n",
      "5 verb 3 угрожают\n",
      "5 verb 4 ввести\n",
      "6 subj 6 вопрос\n",
      "6 verb 5 волнует\n",
      "7 subj 1 Самолеты\n",
      "7 verb 3 вывезут\n",
      "8 subj 7 самолета\n",
      "8 verb 5 вернулись\n",
      "9 subj 1 Самолеты\n",
      "9 verb 3 вывезут\n",
      "10 obj 3 отпечатки\n",
      "10 subj 1 Приставы\n",
      "10 verb 2 соберут\n",
      "11 subj 1 Приставы\n",
      "11 verb 2 снимут\n",
      "12 obj 11 дело\n",
      "12 verb 10 заведено\n",
      "13 subj 2 дебошир\n",
      "13 verb 3 отказывается\n",
      "13 verb 4 возвращаться\n",
      "14 subj 1 ЦИК\n",
      "14 verb 2 хочет\n",
      "14 verb 3 отказаться\n",
      "15 subj 1 ЦИК\n",
      "15 verb 2 может\n",
      "15 verb 3 отказаться\n",
      "16 subj 1 Суд\n",
      "16 verb 3 оставил\n",
      "18 obj 4 добычу\n",
      "18 subj 1 Страны\n",
      "18 verb 3 сократили\n",
      "19 obj 3 полномочия\n",
      "19 subj 1 Обама\n",
      "19 verb 2 продлил\n"
     ]
    }
   ],
   "source": [
    "parses = []\n",
    "with open(\"parses.out\", \"w\", encoding=\"utf8\") as fout:\n",
    "    for i, phrase in enumerate(phrases[:20], 1):\n",
    "        if i % 100 == 0:\n",
    "            print(\"{} phrases parsed\".format(i))\n",
    "        if phrase[-1] not in \".?!\":\n",
    "            phrase += \".\"\n",
    "        parse = prettify_UD_output(pipeline.process(phrase))[0]\n",
    "        fout.write(\"\\n\".join(\"\\t\".join(elem[:8]) for elem in parse) + \"\\n\\n\")\n",
    "        parses.append(parse)\n",
    "parse_data = []\n",
    "for parse in parses:\n",
    "    parse_data.append(SyntaxTreeGraph(parse))\n",
    "for j, elem in enumerate(parse_data):\n",
    "    for key, indexes in sorted(elem.get_indexes().items()):\n",
    "        for index in indexes:\n",
    "            print(j, key, index, parses[j][index-1][1])"
   ]
  },
  {
   "cell_type": "code",
   "execution_count": null,
   "metadata": {},
   "outputs": [],
   "source": []
  }
 ],
 "metadata": {
  "kernelspec": {
   "display_name": "Python 3",
   "language": "python",
   "name": "python3"
  },
  "language_info": {
   "codemirror_mode": {
    "name": "ipython",
    "version": 3
   },
   "file_extension": ".py",
   "mimetype": "text/x-python",
   "name": "python",
   "nbconvert_exporter": "python",
   "pygments_lexer": "ipython3",
   "version": "3.6.5"
  }
 },
 "nbformat": 4,
 "nbformat_minor": 2
}
